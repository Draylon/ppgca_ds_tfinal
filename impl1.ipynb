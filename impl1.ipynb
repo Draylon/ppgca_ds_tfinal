{
 "cells": [
  {
   "cell_type": "markdown",
   "metadata": {},
   "source": [
    "# Modelo 1"
   ]
  }
 ],
 "metadata": {
  "kernelspec": {
   "display_name": "Python 3.12.2 64-bit",
   "language": "python",
   "name": "python3"
  },
  "language_info": {
   "name": "python",
   "version": "3.12.2"
  },
  "orig_nbformat": 4,
  "vscode": {
   "interpreter": {
    "hash": "9ffc1072fea2a5039d79a7f31ec8eb67a4624479194ddfed0310e84dcee13d17"
   }
  }
 },
 "nbformat": 4,
 "nbformat_minor": 2
}
